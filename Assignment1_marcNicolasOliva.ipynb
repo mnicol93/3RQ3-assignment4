{
  "nbformat": 4,
  "nbformat_minor": 0,
  "metadata": {
    "colab": {
      "provenance": [],
      "authorship_tag": "ABX9TyP9tHF8h3lXJ3wIeMnB7ej5",
      "include_colab_link": true
    },
    "kernelspec": {
      "name": "python3",
      "display_name": "Python 3"
    },
    "language_info": {
      "name": "python"
    }
  },
  "cells": [
    {
      "cell_type": "markdown",
      "metadata": {
        "id": "view-in-github",
        "colab_type": "text"
      },
      "source": [
        "<a href=\"https://colab.research.google.com/github/mnicol93/3RQ3-assignment4/blob/main/Assignment1_marcNicolasOliva.ipynb\" target=\"_parent\"><img src=\"https://colab.research.google.com/assets/colab-badge.svg\" alt=\"Open In Colab\"/></a>"
      ]
    },
    {
      "cell_type": "code",
      "execution_count": 29,
      "metadata": {
        "id": "cilaBqPT2arW",
        "colab": {
          "base_uri": "https://localhost:8080/"
        },
        "outputId": "65fe29e9-9f78-4abf-c687-cbd824e43650"
      },
      "outputs": [
        {
          "output_type": "stream",
          "name": "stdout",
          "text": [
            "\n",
            "***Q2***\n",
            "\n",
            "   preg  plas  pres  skin  test  mass   pedi  age  class\n",
            "0     6   148    72    35     0  33.6  0.627   50      1\n",
            "1     1    85    66    29     0  26.6  0.351   31      0\n",
            "2     8   183    64     0     0  23.3  0.672   32      1\n",
            "3     1    89    66    23    94  28.1  0.167   21      0\n",
            "4     0   137    40    35   168  43.1  2.288   33      1\n",
            "\n",
            "***Q3***\n",
            "\n",
            "        preg   plas   pres   skin   test   mass   pedi    age  class\n",
            "preg   1.000  0.129  0.141 -0.082 -0.074  0.018 -0.034  0.544  0.222\n",
            "plas   0.129  1.000  0.153  0.057  0.331  0.221  0.137  0.264  0.467\n",
            "pres   0.141  0.153  1.000  0.207  0.089  0.282  0.041  0.240  0.065\n",
            "skin  -0.082  0.057  0.207  1.000  0.437  0.393  0.184 -0.114  0.075\n",
            "test  -0.074  0.331  0.089  0.437  1.000  0.198  0.185 -0.042  0.131\n",
            "mass   0.018  0.221  0.282  0.393  0.198  1.000  0.141  0.036  0.293\n",
            "pedi  -0.034  0.137  0.041  0.184  0.185  0.141  1.000  0.034  0.174\n",
            "age    0.544  0.264  0.240 -0.114 -0.042  0.036  0.034  1.000  0.238\n",
            "class  0.222  0.467  0.065  0.075  0.131  0.293  0.174  0.238  1.000\n",
            "\n",
            "***Q4***\n",
            "\n",
            "[[0.353 0.744 0.59  0.354 0.    0.501 0.234 0.483]\n",
            " [0.059 0.427 0.541 0.293 0.    0.396 0.117 0.167]\n",
            " [0.471 0.92  0.525 0.    0.    0.347 0.254 0.183]\n",
            " [0.059 0.447 0.541 0.232 0.111 0.419 0.038 0.   ]\n",
            " [0.    0.688 0.328 0.354 0.199 0.642 0.944 0.2  ]]\n",
            "\n",
            "***Q5***\n",
            "\n",
            "       preg   plas   pres   skin   test   mass   pedi    age\n",
            "preg  1.000  0.129  0.141 -0.082 -0.074  0.018 -0.034  0.544\n",
            "plas  0.129  1.000  0.153  0.057  0.331  0.221  0.137  0.264\n",
            "pres  0.141  0.153  1.000  0.207  0.089  0.282  0.041  0.240\n",
            "skin -0.082  0.057  0.207  1.000  0.437  0.393  0.184 -0.114\n",
            "test -0.074  0.331  0.089  0.437  1.000  0.198  0.185 -0.042\n",
            "mass  0.018  0.221  0.282  0.393  0.198  1.000  0.141  0.036\n",
            "pedi -0.034  0.137  0.041  0.184  0.185  0.141  1.000  0.034\n",
            "age   0.544  0.264  0.240 -0.114 -0.042  0.036  0.034  1.000\n",
            "\n",
            "***Q6*** -  Responded in a Text Box\n",
            "\n",
            "\n",
            "***Q8***\n",
            "\n",
            "        preg   plas   pres   skin   test   mass   pedi    age  class\n",
            "preg   1.000  0.099  0.133 -0.118 -0.132  0.016 -0.080  0.573    NaN\n",
            "plas   0.099  1.000  0.193  0.016  0.353  0.132  0.096  0.228    NaN\n",
            "pres   0.133  0.193  1.000  0.187  0.075  0.363  0.027  0.215    NaN\n",
            "skin  -0.118  0.016  0.187  1.000  0.413  0.439  0.095 -0.164    NaN\n",
            "test  -0.132  0.353  0.075  0.413  1.000  0.254  0.227 -0.149    NaN\n",
            "mass   0.016  0.132  0.363  0.439  0.254  1.000  0.071  0.036    NaN\n",
            "pedi  -0.080  0.096  0.027  0.095  0.227  0.071  1.000  0.042    NaN\n",
            "age    0.573  0.228  0.215 -0.164 -0.149  0.036  0.042  1.000    NaN\n",
            "class    NaN    NaN    NaN    NaN    NaN    NaN    NaN    NaN    NaN\n",
            "\n",
            "***Q9*** -  Responded in a Text Box\n",
            "\n",
            "\n",
            "***Q10***\n",
            "\n",
            "        preg   plas   pres   skin   test   mass   pedi    age  class\n",
            "preg   1.000 -0.055  0.127 -0.079 -0.079 -0.159 -0.069  0.445    NaN\n",
            "plas  -0.055  1.000  0.069  0.038  0.261  0.050  0.026  0.099    NaN\n",
            "pres   0.127  0.069  1.000  0.225  0.089  0.134  0.035  0.263    NaN\n",
            "skin  -0.079  0.038  0.225  1.000  0.457  0.312  0.274 -0.092    NaN\n",
            "test  -0.079  0.261  0.089  0.457  1.000  0.055  0.102  0.024    NaN\n",
            "mass  -0.159  0.050  0.134  0.312  0.055  1.000  0.137 -0.188    NaN\n",
            "pedi  -0.069  0.026  0.035  0.274  0.102  0.137  1.000 -0.088    NaN\n",
            "age    0.445  0.099  0.263 -0.092  0.024 -0.188 -0.088  1.000    NaN\n",
            "class    NaN    NaN    NaN    NaN    NaN    NaN    NaN    NaN    NaN\n"
          ]
        }
      ],
      "source": [
        "'''\n",
        "4AI3: Assignment 1 - Marc Nicolas Oliva - 400491674\n",
        "  nicolm7@mcmaster.ca - 02/01/2024\n",
        "'''\n",
        "import pandas as pd\n",
        "from pandas import read_csv\n",
        "from pandas import set_option\n",
        "from numpy import set_printoptions\n",
        "from sklearn.preprocessing import MinMaxScaler\n",
        "\n",
        "filename = 'pima-indians-diabetes.data.csv'\n",
        "names = ['preg', 'plas', 'pres', 'skin', 'test', 'mass', 'pedi', 'age', 'class']\n",
        "# Q1 - Read data from the file “pima-indians-diabetes.data.csv” given in the A2L.\n",
        "data = read_csv(filename, names=names)\n",
        "# Q2 - Print the features of the first 5 samples.\n",
        "print('\\n***Q2***\\n')\n",
        "print(data.head(5))\n",
        "# Q3 - Calculate and print the correlation between the features (columns).\n",
        "print('\\n***Q3***\\n')\n",
        "set_option('display.width', 100)\n",
        "set_option('display.precision', 3)\n",
        "correlations = data.corr(method='pearson')\n",
        "print(correlations)\n",
        "# Q4 - Rescale all 9 features into the range of (0,1) and print the scaled\n",
        "# value of the features of the first 5 samples.\n",
        "print('\\n***Q4***\\n')\n",
        "array = data.values\n",
        "x = array[:,0:8]\n",
        "y = array[:,8:]\n",
        "scaler = MinMaxScaler(feature_range=(0,1))\n",
        "scaledX = scaler.fit_transform(x)\n",
        "set_printoptions(precision=3)\n",
        "print(scaledX[0:5,:])\n",
        "# Q5 - Calculate and print the correla􀆟on of the features for the rescaled data.\n",
        "print('\\n***Q5***\\n')\n",
        "scaled_df = pd.DataFrame(scaledX, columns=names[:-1])\n",
        "correlations_scaled = scaled_df.corr(method='pearson')\n",
        "print(correlations_scaled)\n",
        "# Q6 - Have the correlations changed?\n",
        "print('\\n***Q6*** -  Responded in a Text Box\\n')\n",
        "# Q7 - Group data by 'class'\n",
        "classgroup = data.groupby('class')\n",
        "# Q8 - Calculate the correlation of the features over samples in ‘class’=0.\n",
        "print('\\n***Q8***\\n')\n",
        "class_0 = classgroup.get_group(0)\n",
        "print(class_0.corr())\n",
        "print('\\n***Q9*** -  Responded in a Text Box\\n')\n",
        "# Q10 - Calculate the correlation of the features over samples in ‘class’=1.\n",
        "print('\\n***Q10***\\n')\n",
        "class_1 = classgroup.get_group(1)\n",
        "print(class_1.corr())"
      ]
    },
    {
      "cell_type": "markdown",
      "source": [
        "Q6 - No, the correlations haven't changed. Min-Max preserves linear relationships."
      ],
      "metadata": {
        "id": "myK7_9M5zwRz"
      }
    },
    {
      "cell_type": "markdown",
      "source": [
        "Q9 - The correlations have changed."
      ],
      "metadata": {
        "id": "KUNGKB9s3Cth"
      }
    },
    {
      "cell_type": "markdown",
      "source": [
        "Q11 - The correlations between Class_0 and Class_1 are different,"
      ],
      "metadata": {
        "id": "_y-uC1z53cxY"
      }
    }
  ]
}